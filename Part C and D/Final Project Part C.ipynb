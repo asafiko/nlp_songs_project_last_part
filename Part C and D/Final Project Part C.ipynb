{
 "cells": [
  {
   "cell_type": "code",
   "execution_count": null,
   "metadata": {
    "collapsed": false
   },
   "outputs": [],
   "source": [
    "%matplotlib inline\n",
    "from sklearn.metrics import confusion_matrix\n",
    "import matplotlib.pyplot as plt\n",
    "import numpy as np\n",
    "import theano\n",
    "from keras.utils import np_utils\n",
    "from keras.preprocessing.text import text_to_word_sequence\n",
    "from keras.models import Sequential\n",
    "from keras.layers import Dense\n",
    "from keras.layers import Dropout\n",
    "from keras.layers import LSTM\n",
    "from sklearn.feature_extraction.text import CountVectorizer\n",
    "import nltk\n",
    "import itertools\n",
    "from nltk.corpus import stopwords\n",
    "import _pickle as cPickle"
   ]
  },
  {
   "cell_type": "markdown",
   "metadata": {},
   "source": [
    "# Train Text Generetor"
   ]
  },
  {
   "cell_type": "markdown",
   "metadata": {},
   "source": [
    "## Data Preprocessing"
   ]
  },
  {
   "cell_type": "markdown",
   "metadata": {},
   "source": [
    "First, we will load the data from the previous part."
   ]
  },
  {
   "cell_type": "code",
   "execution_count": 2,
   "metadata": {
    "collapsed": false
   },
   "outputs": [],
   "source": [
    "import pandas as pd\n",
    "df = pd.read_csv('songs2.csv')"
   ]
  },
  {
   "cell_type": "markdown",
   "metadata": {},
   "source": [
    "Now, we are creating functions for the data preparation process, so we will be able to train our the neural networks.  \n",
    "We will use those functions later on for each singer.\n",
    "\n",
    "We will start by defining a function for getting the songs lyrics of a singer/band by the their names."
   ]
  },
  {
   "cell_type": "code",
   "execution_count": 36,
   "metadata": {
    "collapsed": false
   },
   "outputs": [],
   "source": [
    "# returns the artist lyrics\n",
    "def load_lyrics(singer):\n",
    "    dfs = df[df.singer == singer]\n",
    "    lyrics = dfs['lyrics']\n",
    "    return lyrics"
   ]
  },
  {
   "cell_type": "markdown",
   "metadata": {},
   "source": [
    "Now, we would like to create a single string that contains all songs. We will also use some special tokens for **new stanza** and **new line**, which hopefully will help the text generator to learn also the songs structure."
   ]
  },
  {
   "cell_type": "code",
   "execution_count": 37,
   "metadata": {
    "collapsed": false
   },
   "outputs": [],
   "source": [
    "def data_cleaning(lyrics):\n",
    "    # join all songs\n",
    "    lyrics = \" newstanza \".join(lyrics)\n",
    "    # using special tokens\n",
    "    lyrics = lyrics.replace('\\r\\n\\r\\n',' newstanza ')\n",
    "    lyrics = lyrics.replace('\\r\\n',' newline ')\n",
    "    return lyrics"
   ]
  },
  {
   "cell_type": "markdown",
   "metadata": {},
   "source": [
    "Next, we will create the train data, by creating sequence of words from the lyrics of all songs as the input and the following word to that sequence as the output.  \n",
    "We choose to use a vocabulary of the 500 most common words for each singer, so all other words will be replaced with the unknown token."
   ]
  },
  {
   "cell_type": "code",
   "execution_count": 38,
   "metadata": {
    "collapsed": true
   },
   "outputs": [],
   "source": [
    "def text_preprocessing(lyrics, seq_length):\n",
    "    words = text_to_word_sequence(lyrics, lower=False, split=\" \")\n",
    "    # Initialize the \"CountVectorizer\"  \n",
    "    vectorizer = CountVectorizer(analyzer=\"word\", tokenizer=None, preprocessor=None, \n",
    "                                 stop_words=None, max_features=500) \n",
    "    # Create vocabulary from 500 words \n",
    "    vectorizer.fit_transform(words)\n",
    "    vocab = vectorizer.get_feature_names()\n",
    "    # Replace rare words with unknown token\n",
    "    vocab.append(\"unknown\")\n",
    "    words=[w if w in vocab else \"unknown\" for w in words]\n",
    "    # Create the train data set each row in dataX will conatain a list of words and the dataY the next word\n",
    "    word_to_int = dict((c, i) for i, c in enumerate(vocab))\n",
    "    n_words = len(words)\n",
    "    n_vocab = len(vocab)\n",
    "    dataX = []\n",
    "    dataY = []\n",
    "    for i in range(0, n_words - seq_length, 1):\n",
    "        seq_in = words[i:i + seq_length]\n",
    "        seq_out = words[i + seq_length]\n",
    "        dataX.append([word_to_int[word] for word in seq_in])\n",
    "        dataY.append(word_to_int[seq_out])\n",
    "    return n_vocab, dataX, dataY"
   ]
  },
  {
   "cell_type": "markdown",
   "metadata": {},
   "source": [
    "Next, we will define a function that will help us to normalize the data, so the model will be less affected by large numbers. "
   ]
  },
  {
   "cell_type": "code",
   "execution_count": 40,
   "metadata": {
    "collapsed": true
   },
   "outputs": [],
   "source": [
    "def normalize_data(dataX, dataY, n_vocab):\n",
    "    # reshape X to be [samples, time steps, features]\n",
    "    X = numpy.reshape(dataX, (len(dataX), len(dataX[0]), 1))\n",
    "    # normalize\n",
    "    X = X / float(n_vocab)\n",
    "    # one hot encode the output variable\n",
    "    Y = np_utils.to_categorical(dataY) \n",
    "    return X, Y"
   ]
  },
  {
   "cell_type": "markdown",
   "metadata": {},
   "source": [
    "And lastly, putting it all together in a nice and simple function."
   ]
  },
  {
   "cell_type": "code",
   "execution_count": 41,
   "metadata": {
    "collapsed": true
   },
   "outputs": [],
   "source": [
    "def create_train_data(singer, seq_length):\n",
    "    # loading the lyrics\n",
    "    lyrics = load_lyrics(singer)\n",
    "    # cleaning the data\n",
    "    lyrics = data_cleaning(lyrics)\n",
    "    # preprocess the data\n",
    "    n_vocab, dataX, dataY = text_preprocessing(lyrics, seq_length)\n",
    "    # normalize the data and return\n",
    "    return normalize_data(dataX, dataY, n_vocab)"
   ]
  },
  {
   "cell_type": "markdown",
   "metadata": {},
   "source": [
    "## Train The Models"
   ]
  },
  {
   "cell_type": "markdown",
   "metadata": {},
   "source": [
    "In this part, we will create a new LSTM (Long Short Term Memory) model, which is a type of RNN (Recurrent Neural Network), that will be used to our song generation.  \n",
    "The network is built with 1 *LSTM* layer as the recurrent layer of the model, then 1 *Dropout* layer for the prevention of overfitting and lastly 1 *Dense* layer that fits to the output size and uses softmax activation."
   ]
  },
  {
   "cell_type": "code",
   "execution_count": 8,
   "metadata": {
    "collapsed": false
   },
   "outputs": [],
   "source": [
    "def new_model(leng, dim, output_shape):\n",
    "    model = Sequential()\n",
    "    model.add(LSTM(1024, input_shape=(leng,dim)))\n",
    "    model.add(Dropout(0.3))\n",
    "    model.add(Dense(output_shape, activation='softmax'))\n",
    "    model.compile(loss='categorical_crossentropy', optimizer='adam', metrics=[\"accuracy\"])\n",
    "    return model"
   ]
  },
  {
   "cell_type": "markdown",
   "metadata": {},
   "source": [
    "We will train a new model for each singer, in which the LSTM layer is fed with a sequence of 25 words."
   ]
  },
  {
   "cell_type": "code",
   "execution_count": 12,
   "metadata": {
    "collapsed": false,
    "scrolled": true
   },
   "outputs": [
    {
     "name": "stdout",
     "output_type": "stream",
     "text": [
      "Epoch 1/30\n",
      "154186/154186 [==============================] - 246s - loss: 3.9893 - acc: 0.3259   \n",
      "Epoch 2/30\n",
      "154186/154186 [==============================] - 246s - loss: 3.9653 - acc: 0.3265   \n",
      "Epoch 3/30\n",
      "154186/154186 [==============================] - 246s - loss: 3.9509 - acc: 0.3265   \n",
      "Epoch 4/30\n",
      "154186/154186 [==============================] - 246s - loss: 3.9366 - acc: 0.3266   \n",
      "Epoch 5/30\n",
      "154186/154186 [==============================] - 246s - loss: 3.9238 - acc: 0.3266   \n",
      "Epoch 6/30\n",
      "154186/154186 [==============================] - 246s - loss: 3.9095 - acc: 0.3267   \n",
      "Epoch 7/30\n",
      "154186/154186 [==============================] - 246s - loss: 3.8873 - acc: 0.3271   \n",
      "Epoch 8/30\n",
      "154186/154186 [==============================] - 246s - loss: 3.8603 - acc: 0.3283   \n",
      "Epoch 9/30\n",
      "154186/154186 [==============================] - 246s - loss: 3.8017 - acc: 0.3318   \n",
      "Epoch 10/30\n",
      "154186/154186 [==============================] - 246s - loss: 3.7239 - acc: 0.3386   \n",
      "Epoch 11/30\n",
      "154186/154186 [==============================] - 246s - loss: 3.6181 - acc: 0.3501   \n",
      "Epoch 12/30\n",
      "154186/154186 [==============================] - 246s - loss: 3.4905 - acc: 0.3664   \n",
      "Epoch 13/30\n",
      "154186/154186 [==============================] - 246s - loss: 3.3535 - acc: 0.3840   \n",
      "Epoch 14/30\n",
      "154186/154186 [==============================] - 246s - loss: 3.2104 - acc: 0.3994   \n",
      "Epoch 15/30\n",
      "154186/154186 [==============================] - 246s - loss: 3.0630 - acc: 0.4161   \n",
      "Epoch 16/30\n",
      "154186/154186 [==============================] - 246s - loss: 2.8999 - acc: 0.4332   \n",
      "Epoch 17/30\n",
      "154186/154186 [==============================] - 246s - loss: 2.7332 - acc: 0.4519   \n",
      "Epoch 18/30\n",
      "154186/154186 [==============================] - 246s - loss: 2.5533 - acc: 0.4729   \n",
      "Epoch 19/30\n",
      "154186/154186 [==============================] - 246s - loss: 2.3669 - acc: 0.4967   \n",
      "Epoch 20/30\n",
      "154186/154186 [==============================] - 246s - loss: 2.1809 - acc: 0.5232   \n",
      "Epoch 21/30\n",
      "154186/154186 [==============================] - 246s - loss: 1.9957 - acc: 0.5512   \n",
      "Epoch 22/30\n",
      "154186/154186 [==============================] - 246s - loss: 1.8137 - acc: 0.5807   \n",
      "Epoch 23/30\n",
      "154186/154186 [==============================] - 246s - loss: 1.6408 - acc: 0.6127   \n",
      "Epoch 24/30\n",
      "154186/154186 [==============================] - 246s - loss: 1.4743 - acc: 0.6427   \n",
      "Epoch 25/30\n",
      "154186/154186 [==============================] - 246s - loss: 1.3319 - acc: 0.6710   \n",
      "Epoch 26/30\n",
      "154186/154186 [==============================] - 246s - loss: 1.1967 - acc: 0.6995   \n",
      "Epoch 27/30\n",
      "154186/154186 [==============================] - 246s - loss: 1.0687 - acc: 0.7253   \n",
      "Epoch 28/30\n",
      "154186/154186 [==============================] - 246s - loss: 0.9641 - acc: 0.7483   \n",
      "Epoch 29/30\n",
      "154186/154186 [==============================] - 246s - loss: 0.8691 - acc: 0.7702   \n",
      "Epoch 30/30\n",
      "154186/154186 [==============================] - 246s - loss: 0.7906 - acc: 0.7894   \n"
     ]
    }
   ],
   "source": [
    "X, Y = create_train_data(\"Eminem\", 25)\n",
    "model = new_model(X.shape[1], X.shape[2], Y.shape[1])\n",
    "model.fit(X, Y, epochs=30, batch_size=128)\n",
    "model.save_weights(\"EM-weights-25words-usingUnkown-lstm-model-withstruct-f.hdf5\")"
   ]
  },
  {
   "cell_type": "code",
   "execution_count": 13,
   "metadata": {
    "collapsed": false
   },
   "outputs": [
    {
     "name": "stdout",
     "output_type": "stream",
     "text": [
      "Epoch 1/30\n",
      "48895/48895 [==============================] - 77s - loss: 4.5096 - acc: 0.2011    \n",
      "Epoch 2/30\n",
      "48895/48895 [==============================] - 77s - loss: 4.4498 - acc: 0.2047    \n",
      "Epoch 3/30\n",
      "48895/48895 [==============================] - 77s - loss: 4.4439 - acc: 0.2047    \n",
      "Epoch 4/30\n",
      "48895/48895 [==============================] - 77s - loss: 4.4378 - acc: 0.2047    \n",
      "Epoch 5/30\n",
      "48895/48895 [==============================] - 78s - loss: 4.4265 - acc: 0.2046    \n",
      "Epoch 6/30\n",
      "48895/48895 [==============================] - 77s - loss: 4.3834 - acc: 0.2054    \n",
      "Epoch 7/30\n",
      "48895/48895 [==============================] - 78s - loss: 4.3409 - acc: 0.2054    \n",
      "Epoch 8/30\n",
      "48895/48895 [==============================] - 78s - loss: 4.2857 - acc: 0.2065    \n",
      "Epoch 9/30\n",
      "48895/48895 [==============================] - 78s - loss: 4.1786 - acc: 0.2127    \n",
      "Epoch 10/30\n",
      "48895/48895 [==============================] - 78s - loss: 4.0333 - acc: 0.2246    \n",
      "Epoch 11/30\n",
      "48895/48895 [==============================] - 78s - loss: 3.8419 - acc: 0.2438    \n",
      "Epoch 12/30\n",
      "48895/48895 [==============================] - 78s - loss: 3.5974 - acc: 0.2727    \n",
      "Epoch 13/30\n",
      "48895/48895 [==============================] - 78s - loss: 3.3035 - acc: 0.3098    \n",
      "Epoch 14/30\n",
      "48895/48895 [==============================] - 78s - loss: 2.9601 - acc: 0.3584    \n",
      "Epoch 15/30\n",
      "48895/48895 [==============================] - 78s - loss: 2.5785 - acc: 0.4200    \n",
      "Epoch 16/30\n",
      "48895/48895 [==============================] - 78s - loss: 2.1965 - acc: 0.4870    \n",
      "Epoch 17/30\n",
      "48895/48895 [==============================] - 78s - loss: 1.8225 - acc: 0.5608    \n",
      "Epoch 18/30\n",
      "48895/48895 [==============================] - 78s - loss: 1.4818 - acc: 0.6337    \n",
      "Epoch 19/30\n",
      "48895/48895 [==============================] - 78s - loss: 1.1938 - acc: 0.6971    \n",
      "Epoch 20/30\n",
      "48895/48895 [==============================] - 78s - loss: 0.9472 - acc: 0.7561    \n",
      "Epoch 21/30\n",
      "48895/48895 [==============================] - 78s - loss: 0.7412 - acc: 0.8086    \n",
      "Epoch 22/30\n",
      "48895/48895 [==============================] - 78s - loss: 0.5912 - acc: 0.8458    \n",
      "Epoch 23/30\n",
      "48895/48895 [==============================] - 78s - loss: 0.4682 - acc: 0.8800    \n",
      "Epoch 24/30\n",
      "48895/48895 [==============================] - 78s - loss: 0.3940 - acc: 0.8998    \n",
      "Epoch 25/30\n",
      "48895/48895 [==============================] - 78s - loss: 0.3356 - acc: 0.9174    \n",
      "Epoch 26/30\n",
      "48895/48895 [==============================] - 78s - loss: 0.2864 - acc: 0.9291    \n",
      "Epoch 27/30\n",
      "48895/48895 [==============================] - 78s - loss: 0.2719 - acc: 0.9321    \n",
      "Epoch 28/30\n",
      "48895/48895 [==============================] - 78s - loss: 0.2530 - acc: 0.9363    \n",
      "Epoch 29/30\n",
      "48895/48895 [==============================] - 78s - loss: 0.2315 - acc: 0.9417    \n",
      "Epoch 30/30\n",
      "48895/48895 [==============================] - 78s - loss: 0.2293 - acc: 0.9404    \n"
     ]
    }
   ],
   "source": [
    "X, Y = create_train_data(\"The Beatles\", 25)\n",
    "model = new_model(X.shape[1], X.shape[2], Y.shape[1])\n",
    "model.fit(X, Y, epochs=30, batch_size=128)\n",
    "model.save_weights(\"TB-weights-25words-usingUnkown-lstm-model-withstruct-f.hdf5\")"
   ]
  },
  {
   "cell_type": "code",
   "execution_count": 14,
   "metadata": {
    "collapsed": false
   },
   "outputs": [
    {
     "name": "stdout",
     "output_type": "stream",
     "text": [
      "Epoch 1/30\n",
      "62773/62773 [==============================] - 100s - loss: 4.4195 - acc: 0.2069   \n",
      "Epoch 2/30\n",
      "62773/62773 [==============================] - 100s - loss: 4.3786 - acc: 0.2086   \n",
      "Epoch 3/30\n",
      "62773/62773 [==============================] - 100s - loss: 4.3706 - acc: 0.2086   \n",
      "Epoch 4/30\n",
      "62773/62773 [==============================] - 100s - loss: 4.3524 - acc: 0.2084   \n",
      "Epoch 5/30\n",
      "62773/62773 [==============================] - 100s - loss: 4.3036 - acc: 0.2089   \n",
      "Epoch 6/30\n",
      "62773/62773 [==============================] - 100s - loss: 4.2408 - acc: 0.2106   \n",
      "Epoch 7/30\n",
      "62773/62773 [==============================] - 100s - loss: 4.1602 - acc: 0.2137   \n",
      "Epoch 8/30\n",
      "62773/62773 [==============================] - 100s - loss: 4.0392 - acc: 0.2210   \n",
      "Epoch 9/30\n",
      "62773/62773 [==============================] - 100s - loss: 3.8228 - acc: 0.2393   \n",
      "Epoch 10/30\n",
      "62773/62773 [==============================] - 100s - loss: 3.5008 - acc: 0.2805   \n",
      "Epoch 11/30\n",
      "62773/62773 [==============================] - 100s - loss: 3.0895 - acc: 0.3438   \n",
      "Epoch 12/30\n",
      "62773/62773 [==============================] - 100s - loss: 2.6597 - acc: 0.4195   \n",
      "Epoch 13/30\n",
      "62773/62773 [==============================] - 100s - loss: 2.2461 - acc: 0.4945   \n",
      "Epoch 14/30\n",
      "62773/62773 [==============================] - 100s - loss: 1.8880 - acc: 0.5619   \n",
      "Epoch 15/30\n",
      "62773/62773 [==============================] - 100s - loss: 1.5463 - acc: 0.6294   \n",
      "Epoch 16/30\n",
      "62773/62773 [==============================] - 100s - loss: 1.2715 - acc: 0.6865   \n",
      "Epoch 17/30\n",
      "62773/62773 [==============================] - 100s - loss: 1.0233 - acc: 0.7402   \n",
      "Epoch 18/30\n",
      "62773/62773 [==============================] - 100s - loss: 0.8215 - acc: 0.7899   \n",
      "Epoch 19/30\n",
      "62773/62773 [==============================] - 100s - loss: 0.6617 - acc: 0.8285   \n",
      "Epoch 20/30\n",
      "62773/62773 [==============================] - 100s - loss: 0.5378 - acc: 0.8618   \n",
      "Epoch 21/30\n",
      "62773/62773 [==============================] - 100s - loss: 0.4483 - acc: 0.8848   \n",
      "Epoch 22/30\n",
      "62773/62773 [==============================] - 100s - loss: 0.3788 - acc: 0.9025   \n",
      "Epoch 23/30\n",
      "62773/62773 [==============================] - 100s - loss: 0.3353 - acc: 0.9163   \n",
      "Epoch 24/30\n",
      "62773/62773 [==============================] - 100s - loss: 0.3077 - acc: 0.9210   \n",
      "Epoch 25/30\n",
      "62773/62773 [==============================] - 100s - loss: 0.2836 - acc: 0.9275   \n",
      "Epoch 26/30\n",
      "62773/62773 [==============================] - 100s - loss: 0.2721 - acc: 0.9288   \n",
      "Epoch 27/30\n",
      "62773/62773 [==============================] - 100s - loss: 0.2471 - acc: 0.9359   \n",
      "Epoch 28/30\n",
      "62773/62773 [==============================] - 100s - loss: 0.2380 - acc: 0.9380   \n",
      "Epoch 29/30\n",
      "62773/62773 [==============================] - 100s - loss: 0.2464 - acc: 0.9349   \n",
      "Epoch 30/30\n",
      "62773/62773 [==============================] - 100s - loss: 0.2255 - acc: 0.9395   \n"
     ]
    }
   ],
   "source": [
    "X, Y = create_train_data(\"Britney Spearss\", 25)\n",
    "model = new_model(X.shape[1], X.shape[2], Y.shape[1])\n",
    "model.fit(X, Y, epochs=30, batch_size=128)\n",
    "model.save_weights(\"BS-weights-25words-usingUnkown-lstm-model-withstruct-f.hdf5\")"
   ]
  },
  {
   "cell_type": "markdown",
   "metadata": {},
   "source": [
    "# Song Generation"
   ]
  },
  {
   "cell_type": "markdown",
   "metadata": {},
   "source": [
    "In this part, we will generate 30% more songs for each artist, based on the original number of songs we scraped in the first part. Each song will have a length that can be somewhere between the median length of the artist's song (50th percentile) and the 75th percentile length of the artist's song.\n",
    "\n",
    "The next function extracts this information and the songs lyrics for each singer."
   ]
  },
  {
   "cell_type": "code",
   "execution_count": 66,
   "metadata": {
    "collapsed": false
   },
   "outputs": [],
   "source": [
    "def songs_by_singer(singer, df):\n",
    "    df2 = df[df.singer == singer]\n",
    "    lyrics = df2['lyrics']\n",
    "    min_len = int(df2.word_count.quantile(0.5))\n",
    "    max_len = int(df2.word_count.quantile(0.75))\n",
    "    num_of_songs_to_generate = int(len(lyrics) * 0.3)\n",
    "    return lyrics, min_len, max_len, num_of_songs_to_generate"
   ]
  },
  {
   "cell_type": "markdown",
   "metadata": {},
   "source": [
    "The next function is used in order to get the data of each singer, the mapping of each word in the bag of words and length of the vocabulary.  \n",
    "This will be used for generating the new songs with random seeds from the orginal songs and converting them back to words from integers, as the training state requires."
   ]
  },
  {
   "cell_type": "code",
   "execution_count": 67,
   "metadata": {
    "collapsed": true
   },
   "outputs": [],
   "source": [
    "def create_train_data_set(lyrics,seq_length):\n",
    "    # join songs by song end token\n",
    "    lyrics = \" newstanza \".join(lyrics)\n",
    "    # replace new line and new stanza with tokens\n",
    "    lyrics = lyrics.replace('\\r\\n\\r\\n',' newstanza ')\n",
    "    lyrics = lyrics.replace('\\r\\n',' newline ')\n",
    "    # create vocabulary\n",
    "    words = text_to_word_sequence(lyrics, lower=False, split=\" \")\n",
    "    vectorizer = CountVectorizer(analyzer=\"word\", tokenizer=None, preprocessor=None,\n",
    "                                 stop_words=None, max_features=500) \n",
    "    vectorizer.fit_transform(words)\n",
    "    vocab = vectorizer.get_feature_names()\n",
    "    # replace unknown words\n",
    "    vocab.append(\"unknown\")\n",
    "    words=[w if w in vocab else \"unknown\"  for w in words]\n",
    "    word_to_int = dict((c, i) for i, c in enumerate(vocab))\n",
    "    int_to_word = dict((i, c) for i, c in enumerate(vocab))\n",
    "    n_words = len(words)\n",
    "    n_vocab = len(vocab)\n",
    "    # create train set words sequence as input set the next word as output \n",
    "    dataX = []\n",
    "    dataY = []\n",
    "    for i in range(0, n_words - seq_length, 1):\n",
    "        seq_in = words[i:i + seq_length]\n",
    "        dataX.append([word_to_int[word] for word in seq_in])\n",
    "    return dataX, int_to_word, n_vocab"
   ]
  },
  {
   "cell_type": "markdown",
   "metadata": {},
   "source": [
    "The next function generates the songs word by word. It starts by using random sequence of words from the authentic songs of the artist and sends them the our model so it will predict the next word. The next word is chosen randomly from the 3 most likely words that predicted by the model as the next word (while avoiding the unknown token from appearing in the generated songs).  \n",
    "The random sequences that the songs are generated from are not a part of the generated songs."
   ]
  },
  {
   "cell_type": "code",
   "execution_count": 77,
   "metadata": {
    "collapsed": false
   },
   "outputs": [],
   "source": [
    "def generate_songs_helper(num_songs, model_path, song_len_min, song_len_max, dataX, int_to_word, n_vocab,seq_length):\n",
    "    # loading the model\n",
    "    model.load_weights(model_path, by_name=False)\n",
    "    genrated_songs = []\n",
    "    start = np.random.choice(len(dataX)-1, num_songs)\n",
    "    for i in range(num_songs):\n",
    "        # pick a random seed from the train data\n",
    "        pattern = dataX[start[i]]\n",
    "        text = \"\"\n",
    "        # generate words\n",
    "        song_length = numpy.random.randint(low=song_len_min, high=song_len_max)\n",
    "        for i in range(song_length) :\n",
    "            if len(pattern) > seq_length:\n",
    "                pattern.pop(0)\n",
    "            x = numpy.reshape(pattern, (1, len(pattern), 1))\n",
    "            x = x / float(n_vocab)\n",
    "            prediction = model.predict(x, verbose=0)\n",
    "            # choose one word of the best 3 that the model predict\n",
    "            best_3 = prediction.argsort() [0][-3:]\n",
    "            # avoiding the unknown token\n",
    "            index = np.argwhere(best_3 == 500)\n",
    "            best_3 = np.delete(best_3, index)\n",
    "            index = np.random.choice(best_3, 1)[0]\n",
    "            #add the new word to the song\n",
    "            result = int_to_word[index]\n",
    "            text += \" \" + result\n",
    "            # deleting the first word in sequance and adding the new one to the end\n",
    "            seq_in = [int_to_word[value] for value in pattern]\n",
    "            pattern.append(index)\n",
    "            pattern = pattern[1:len(pattern)]\n",
    "        genrated_songs.append(text) \n",
    "    return genrated_songs    "
   ]
  },
  {
   "cell_type": "markdown",
   "metadata": {},
   "source": [
    "Again, we will put it all together in a nice function, initialized with a sequence length of 25 - the same as in our trained model."
   ]
  },
  {
   "cell_type": "code",
   "execution_count": 73,
   "metadata": {
    "collapsed": false
   },
   "outputs": [],
   "source": [
    "def generate_songs(singer, path):\n",
    "    seq_length = 25\n",
    "    lyrics, min_len, max_len, num_of_songs_to_generate = songs_by_singer(singer, df)\n",
    "    dataX, int_to_word, n_vocab = create_train_data_set(lyrics, seq_length)\n",
    "    songs_list = generate_songs_helper(num_of_songs_to_generate, path, min_len, max_len, dataX, int_to_word, n_vocab,seq_length)\n",
    "    return songs_list, [singer] * num_of_songs_to_generate"
   ]
  },
  {
   "cell_type": "markdown",
   "metadata": {},
   "source": [
    "### Generating the songs for each singer"
   ]
  },
  {
   "cell_type": "markdown",
   "metadata": {},
   "source": [
    "We will load the weight we saved for of our trained models, and we will generate from them 30% new songs for each one of the 3 artists."
   ]
  },
  {
   "cell_type": "code",
   "execution_count": 78,
   "metadata": {
    "collapsed": false
   },
   "outputs": [
    {
     "name": "stdout",
     "output_type": "stream",
     "text": [
      "67 new songs were generated for The Beatles\n"
     ]
    }
   ],
   "source": [
    "songs_list, label_list = [], []\n",
    "ansX, ansY = generate_songs(\"The Beatles\", \"TB-weights-25words-usingUnkown-lstm-model-withstruct-f.hdf5\")\n",
    "songs_list += ansX\n",
    "label_list += ansY\n",
    "print(str(len(ansX)), \"new songs were generated for The Beatles\")"
   ]
  },
  {
   "cell_type": "code",
   "execution_count": 79,
   "metadata": {
    "collapsed": false
   },
   "outputs": [
    {
     "name": "stdout",
     "output_type": "stream",
     "text": [
      "46 new songs were generated for Britney Spears\n"
     ]
    }
   ],
   "source": [
    "ansX, ansY = generate_songs(\"Britney Spearss\", \"BS-weights-25words-usingUnkown-lstm-model-withstruct-f.hdf5\")\n",
    "songs_list += ansX\n",
    "label_list += ansY\n",
    "print(str(len(ansX)), \"new songs were generated for Britney Spears\")"
   ]
  },
  {
   "cell_type": "code",
   "execution_count": 80,
   "metadata": {
    "collapsed": false
   },
   "outputs": [
    {
     "name": "stdout",
     "output_type": "stream",
     "text": [
      "57 new songs were generated for Eminem\n"
     ]
    }
   ],
   "source": [
    "ansX, ansY = generate_songs(\"Eminem\", \"EM-weights-25words-usingUnkown-lstm-model-withstruct-f.hdf5\")\n",
    "songs_list += ansX\n",
    "label_list += ansY\n",
    "print(str(len(ansX)), \"new songs were generated for Eminem\")"
   ]
  },
  {
   "cell_type": "markdown",
   "metadata": {},
   "source": [
    "Lets see some examples of our generated songs:"
   ]
  },
  {
   "cell_type": "code",
   "execution_count": 87,
   "metadata": {
    "collapsed": false
   },
   "outputs": [
    {
     "name": "stdout",
     "output_type": "stream",
     "text": [
      "SONG:\n",
      "  \n",
      " yeah does does me oh yeah let let looking ooh heart his she she  \n",
      " our she honey the the his two me  \n",
      " yeah  \n",
      " hey yeah yeah  \n",
      " yeah cry you  \n",
      " to  \n",
      " here but waiting garden by ha  \n",
      " ha ha daa  \n",
      " my love place be skelter  \n",
      "\n",
      " in be  \n",
      "  \n",
      "\n",
      "  \n",
      " to up in you out or kiss your  \n",
      " of been of  \n",
      "\n",
      " well know it  \n",
      " for me makes of  \n",
      " her her you  \n",
      " me our his la to goes me love for  \n",
      " you want  \n",
      "\n",
      " guten morgen whoo life  \n",
      " do  \n",
      " whoo  \n",
      "  \n",
      " blue  \n",
      " yeah make me do  \n",
      " yeah make know darling  \n",
      "\n",
      " as in yeah know  \n",
      " is how why be it blue yeah yeah yeah she me you down home  \n",
      " be but when this here me  \n",
      " but you need girl is  \n",
      "\n",
      " whoo  \n",
      " from you need is take all love  \n",
      "\n",
      " all  \n",
      "  \n",
      "\n",
      " is  \n",
      "\n",
      " love all love  \n",
      " is  \n",
      " all on  \n",
      "\n",
      " is he me child  \n",
      "  \n",
      "\n",
      " all there you to to me  \n",
      "\n",
      " no get the need my down  \n",
      " do you need is on fun all you is\n",
      "\n",
      "SONG:\n",
      " all  \n",
      "\n",
      " when we be when bass yes  \n",
      " bigger we you see  \n",
      " the  \n",
      " in like  \n",
      " baby is my loneliness the crowd me again me control you me take me down down britney  \n",
      " the the in in  \n",
      "  \n",
      " is oh we little come you got down  \n",
      " my  \n",
      " my britney on my on is take we be the my  \n",
      "\n",
      " but take  \n",
      " go me  \n",
      "  \n",
      " name my we your  \n",
      " be the still there will baby that that that out  \n",
      " will  \n",
      " in take me like the me another  \n",
      " the in to loneliness just we my to  \n",
      "\n",
      " that that  \n",
      " you that she that  \n",
      "\n",
      " now not you in  \n",
      " you you now me if  \n",
      "\n",
      " what and that feel what you  \n",
      " me oh gotta oh baby  \n",
      "\n",
      " the  \n",
      " you gonna  \n",
      " come to my my so so out and under  \n",
      " there  \n",
      " wanna huh  \n",
      " all the  \n",
      " in  \n",
      " baby me me you up girl hear kiss is you  \n",
      " me last all the you  \n",
      " boys your you not  \n",
      " uh  \n",
      "  \n",
      " been you love you  \n",
      "\n",
      " you you always be me for all and  \n",
      " when the this to and what came to be the you gonna the got my you so so so but was  \n",
      "  \n",
      " name was had feeling we we  \n",
      "  \n",
      "  \n",
      " we to for you all that  \n",
      " his is the really wanna we we  \n",
      "\n",
      "  \n",
      "  \n",
      " up can with with go mind my baby  \n",
      " this  \n",
      " you gonna all my you but is your in how all  \n",
      "\n",
      " the baby  \n",
      "\n",
      "  \n",
      "\n",
      " is the beautiful about  \n",
      "  \n",
      " from the my the the just the all she that breathe that  \n",
      " but but  \n",
      " control about to of is day all every night  \n",
      " you drive lose crazy you make me crazy eh  \n",
      "\n",
      " baby so as so want damn ooh so  \n",
      "  \n",
      " can you me so  \n",
      "  \n",
      " we up up we wanna and  \n",
      " when can we can is that in felt heart heart  \n",
      " bass my let and on on on hold yeah  \n",
      "\n",
      " there to you  \n",
      " up  \n",
      "\n",
      " yeah to party it it the me now  \n",
      "\n",
      " you out in you  \n",
      "\n",
      "  \n",
      "\n",
      " can  \n",
      "\n",
      " my you know stronger me give on tonight  \n",
      " and the that all you uh that  \n",
      " all you\n",
      "\n",
      "SONG:\n",
      " what me you my my name head my no so  \n",
      " say  \n",
      " you you the way in the in everything the time  \n",
      " eminem you man like shady just to us  \n",
      " it you never you call your it in the way my  \n",
      " he one the your again  \n",
      "\n",
      " you  \n",
      " was to but your the that of and  \n",
      "  \n",
      " so just mean to me out was just get you come now you up know better  \n",
      " think oh from eminem  \n",
      " to to  \n",
      " call gone crazy  \n",
      "\n",
      "  \n",
      "\n",
      " dre can just shady the him  \n",
      " my city  \n",
      " come to come  \n",
      " this me they  \n",
      " but  \n",
      " and  \n",
      "\n",
      " in on royce me for  \n",
      " me me eminem  \n",
      "\n",
      " drugs da with is  \n",
      " and come  \n",
      " me da  \n",
      " da come with da rock  \n",
      " da  \n",
      " and come with da off  \n",
      " get that da off on of  \n",
      " all just like still come ass up the off dre and  \n",
      " the and you get boy this love we way  \n",
      "\n",
      " as and knows that you one  \n",
      "\n",
      " eminem  \n",
      " damn sing damn even just made just me this never up life life  \n",
      " no me about  \n",
      " you me  \n",
      " rock city  \n",
      "\n",
      " so on on me on your on  \n",
      " in  \n",
      "\n",
      " dr the in kill the street  \n",
      " our way  \n",
      "\n",
      " dr the way  \n",
      "\n",
      "  \n",
      "\n",
      "  \n",
      " god there your sing bitches the not to your  \n",
      " your to and to with me  \n",
      "\n",
      " the can with  \n",
      " left  \n",
      "  \n",
      " got us  \n",
      "  \n",
      "\n",
      " like but the and you about you this  \n",
      " with my like me you all do just you you of from the half we as  \n",
      "\n",
      " the reason you is of the up  \n",
      " but your about about out me to me got  \n",
      " it  \n",
      " the the little got you  \n",
      " get up but you my his my his and off you we my this him just take  \n",
      " and for the that  \n",
      " it you go this now and in the your  \n",
      "\n",
      " and now comes me just me the song got  \n",
      " my  \n",
      " this your got something in  \n",
      "\n",
      " better again got me bad  \n",
      " you  \n",
      "\n",
      " with the city the  \n",
      "  \n",
      " eminem  \n",
      " there know is dre  \n",
      "\n",
      "  \n",
      " me on royce for nigga  \n",
      "  \n",
      " dre ass  \n",
      " hold  \n",
      "\n",
      " with shady  \n",
      "  \n",
      " one  \n",
      " come come  \n",
      "\n",
      " come the city me  \n",
      " da  \n",
      "\n",
      "  \n",
      " come with me  \n",
      "\n",
      "  \n",
      " come and come on  \n",
      " come  \n",
      " one city da  \n",
      "  \n",
      "\n",
      " eminem  \n",
      "  \n",
      " block on  \n",
      "  \n",
      " for da down  \n",
      " dr  \n",
      " da da with da off  \n",
      " da da  \n",
      " da da  \n",
      " da and down aah baby baby  \n",
      " just lose  \n",
      " aah aah down aah aah  \n",
      " go crazy down down down aah baby  \n",
      " baby go  \n",
      " aah down down down baby  \n",
      "\n",
      " oh crazy down aah down aah aah aah  \n",
      " go oh down aah and aah aah aah  \n",
      "\n",
      "  \n",
      " aah aah  \n",
      " aah baby down  \n",
      " oh baby my aah down down  \n",
      " baby baby aah  \n",
      "\n",
      " baby  \n",
      " and get baby  \n",
      "\n",
      " get get it aah aah aah down down  \n",
      " down down  \n",
      " down down down aah aah  \n",
      " get baby aah down down aah baby  \n",
      " oh aah down  \n",
      " oh baby  \n",
      "\n",
      " aah my was  \n",
      " my it  \n",
      "\n",
      "  \n",
      " the is  \n",
      "\n",
      " scream come on  \n",
      " come with me  \n",
      "\n",
      " and  \n",
      " no come dre  \n",
      "  \n",
      "\n",
      " da  \n",
      " royce eminem dre  \n",
      " yo  \n",
      " with  \n",
      " come two come  \n",
      "\n",
      " but come on  \n",
      "\n",
      " and  \n",
      " me me with  \n",
      "  \n",
      "  \n",
      " is  \n",
      "\n",
      " on on and come  \n",
      "  \n",
      " da da royce one da da  \n",
      " one that fuck get on  \n",
      "\n",
      " eminem that fuck shake for me that me  \n",
      "  \n",
      " and slim time of the who with  \n",
      " and  \n",
      " with with you is is  \n",
      " yo me her  \n",
      " my my my our me no  \n",
      "\n",
      "  \n",
      " as as as me as  \n",
      " with  \n",
      "\n",
      " with rock back rock  \n",
      "  \n",
      "\n",
      " come on and rock with is slim  \n",
      " da  \n",
      " and  \n",
      "  \n",
      " rock with and on and rock this me they  \n",
      " one  \n",
      " yeah me me on  \n",
      "\n",
      " yeah come crazy you the  \n",
      "\n",
      " no say  \n",
      "\n",
      "  \n",
      " me me  \n",
      "  \n",
      " oh  \n",
      " oh bitch  \n",
      " and  \n",
      "\n",
      " no  \n",
      "\n",
      " they shady want the up up fuck and motherfucker  \n",
      "\n",
      " they they what it eminem  \n",
      " my get her all to the  \n",
      "  \n",
      " and off  \n",
      " the his ass  \n",
      " in the come on my in come  \n",
      " his as for me with that for for with and come  \n",
      " on eminem that shit  \n",
      " of kids and as as bad you that they was was and them at  \n",
      "\n",
      "  \n",
      "\n",
      " you the all dad to be this nigga  \n",
      " we fuck seen leave the always all like on  \n",
      " of show you need  \n",
      " all you me  \n",
      "\n",
      "\n"
     ]
    }
   ],
   "source": [
    "generated_songs = songs_list\n",
    "song_examples = [generated_songs[0], generated_songs[67], generated_songs[113]]\n",
    "for song in song_examples:\n",
    "    song = song.replace('newline', ' \\n')\n",
    "    song = song.replace('newstanza', ' \\n\\n')\n",
    "    print(\"SONG:\\n\" + song + \"\\n\")"
   ]
  },
  {
   "cell_type": "markdown",
   "metadata": {},
   "source": [
    "We can see that our models had difficulty to learn the songs structure, but on some parts it actually did not a bad job.  \n",
    "Also, we can see that there are differences in the words used for each artist."
   ]
  },
  {
   "cell_type": "markdown",
   "metadata": {},
   "source": [
    "# Classification of the Generated Songs"
   ]
  },
  {
   "cell_type": "markdown",
   "metadata": {},
   "source": [
    "We will start by loading our classifier and vectorizer from part B."
   ]
  },
  {
   "cell_type": "code",
   "execution_count": 88,
   "metadata": {
    "collapsed": false
   },
   "outputs": [],
   "source": [
    "with open('classfier.pkl', 'rb') as f:\n",
    "    rf = cPickle.load(f, encoding='latin1')\n",
    "    \n",
    "with open('vectorizer.pkl', 'rb') as f:\n",
    "    vectorizer = cPickle.load(f, encoding='latin1') "
   ]
  },
  {
   "cell_type": "markdown",
   "metadata": {},
   "source": [
    "Now we will process the generated data to be ready for classification."
   ]
  },
  {
   "cell_type": "code",
   "execution_count": 92,
   "metadata": {
    "collapsed": false
   },
   "outputs": [],
   "source": [
    "# removing tokens\n",
    "clean_song_list = []\n",
    "for song in genrated_songs:\n",
    "    song = song.replace(' newline ',' ')\n",
    "    song = song.replace(' newstanza ',' ')\n",
    "    clean_song_list.append(song)\n",
    "genrated_songs = clean_song_list\n",
    "\n",
    "# download english stop words list\n",
    "stop_words = stopwords.words(\"english\")\n",
    "\n",
    "def important_words(song_lyrics):\n",
    "    # remove stop words\n",
    "    words = nltk.word_tokenize(song_lyrics)\n",
    "    words = [w for w in words if not w in stop_words]\n",
    "    # Stemming\n",
    "    porter = nltk.PorterStemmer()\n",
    "    words = [porter.stem(w) for w in words]\n",
    "    return \" \".join(words)\n",
    "\n",
    "# creating data features from generated songs\n",
    "generated_songs = [important_words(l) for l in generated_songs]\n",
    "data_features = vectorizer.fit_transform(generated_songs)\n",
    "data_features = data_features.toarray()"
   ]
  },
  {
   "cell_type": "code",
   "execution_count": 93,
   "metadata": {
    "collapsed": false
   },
   "outputs": [
    {
     "name": "stdout",
     "output_type": "stream",
     "text": [
      "Accuracy: 1.00\n"
     ]
    }
   ],
   "source": [
    "print(\"Accuracy: %0.2f\" % rf.score(data_features, label_list))"
   ]
  },
  {
   "cell_type": "markdown",
   "metadata": {},
   "source": [
    "We can see that our classifier had an accuracy of **100%** while identifing our machine generated songs for the singers. This result is quite impressive!"
   ]
  },
  {
   "cell_type": "code",
   "execution_count": 94,
   "metadata": {
    "collapsed": false
   },
   "outputs": [
    {
     "data": {
      "image/png": "[encoded data removed]",
      "text/plain": [
       "<matplotlib.figure.Figure at 0x7fba53ab1828>"
      ]
     },
     "metadata": {},
     "output_type": "display_data"
    }
   ],
   "source": [
    "def plot_confusion_matrix(cm, classes):\n",
    "    plt.imshow(cm, interpolation='nearest', cmap=plt.cm.Blues) \n",
    "    plt.colorbar()\n",
    "    tick_marks = np.arange(len(classes))\n",
    "    plt.xticks(tick_marks, classes, rotation=45)\n",
    "    plt.yticks(tick_marks, classes)\n",
    "\n",
    "    thresh = cm.max() / 2.\n",
    "    for i, j in itertools.product(range(cm.shape[0]), range(cm.shape[1])):\n",
    "        plt.text(j, i, cm[i, j], horizontalalignment=\"center\", color=\"white\" if cm[i, j] > thresh else \"black\")\n",
    "\n",
    "    plt.tight_layout()\n",
    "    plt.title('Confusion matrix')\n",
    "    plt.ylabel('True label')\n",
    "    plt.xlabel('Predicted label')\n",
    "\n",
    "y_pred = rf.predict(data_features)\n",
    "labels = [\"The Beatles\", \"Britney Spearss\", \"Eminem\"]\n",
    "conf_mat = confusion_matrix(label_list, y_pred, labels=labels)\n",
    "plot_confusion_matrix(conf_mat, labels)"
   ]
  },
  {
   "cell_type": "markdown",
   "metadata": {},
   "source": [
    "We can see that all songs were classified correctly, which means that our RandomForest model from the last part indeed had high level of accuracy, and our RNN models successfully learned the artists songs and generated songs the look exactly like their original songs, from the machine's point of view - which is what we tried to achieve."
   ]
  }
 ],
 "metadata": {
  "anaconda-cloud": {},
  "kernelspec": {
   "display_name": "Python [conda root]",
   "language": "python",
   "name": "conda-root-py"
  },
  "language_info": {
   "codemirror_mode": {
    "name": "ipython",
    "version": 3
   },
   "file_extension": ".py",
   "mimetype": "text/x-python",
   "name": "python",
   "nbconvert_exporter": "python",
   "pygments_lexer": "ipython3",
   "version": "3.5.2"
  }
 },
 "nbformat": 4,
 "nbformat_minor": 1
}
