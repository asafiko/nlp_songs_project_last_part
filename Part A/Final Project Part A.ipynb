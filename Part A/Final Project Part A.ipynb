{
 "cells": [
  {
   "cell_type": "markdown",
   "metadata": {},
   "source": [
    "# Final Project - Part A - Analyze Data"
   ]
  },
  {
   "cell_type": "markdown",
   "metadata": {},
   "source": [
    "## Loading data"
   ]
  },
  {
   "cell_type": "code",
   "execution_count": 15,
   "metadata": {
    "collapsed": false
   },
   "outputs": [],
   "source": [
    "import cPickle as Pickle\n",
    "\n",
    "def load_song(path):\n",
    "    with open(path, 'rb') as input_file:\n",
    "        songs = Pickle.load(input_file)\n",
    "    return songs\n",
    "\n",
    "the_beatles_songs = load_song('The Beatles' + \".pkl\")\n",
    "britney_spears_songs = load_song('Britney Spears' + \".pkl\")\n",
    "eminem_songs = load_song('Eminem' + \".pkl\")"
   ]
  },
  {
   "cell_type": "markdown",
   "metadata": {},
   "source": [
    "We load the data from three pickle file each loading variable contain list of pairs\n",
    "Each item in the list represent a song, when the firs item in the pair is the song headline and the second is the song lyrics.\n",
    "lets see one song for example"
   ]
  },
  {
   "cell_type": "code",
   "execution_count": 16,
   "metadata": {
    "collapsed": false
   },
   "outputs": [
    {
     "data": {
      "text/plain": [
       "['I Saw Her Standing There',\n",
       " u\"One, two, three, four!\\n\\nWell, she was just seventeen\\nIf you know what I mean\\nAnd the way she looked\\nWas way beyond compare\\nSo how could I dance with another\\nWhen I saw her standing there?\\n\\nWell, she looked at me\\nAnd I, I could see\\nThat before too long\\nI'd fall in love with her\\nShe wouldn't dance with another\\nWhen I saw her standing there\\n\\nWell, my heart went boom\\nWhen I crossed that room\\nAnd I held her hand in mine\\n\\nWhoa, we danced through the night\\nAnd we held each other tight\\nAnd before too long\\nI fell in love with her\\nNow, I'll never dance with another\\nWhen I saw her standing there\\n\\nWell, my heart went boom\\nWhen I crossed that room\\nAnd I held her hand in mine\\n\\nOh, we danced through the night\\nAnd we held each other tight\\nAnd before too long\\nI fell in love with her\\nNow, I'll never dance with another\\nSince I saw her standing there\\nWhoa, since I saw her standing there\\nYeah, well, since I saw her standing there\"]"
      ]
     },
     "execution_count": 16,
     "metadata": {},
     "output_type": "execute_result"
    }
   ],
   "source": [
    "the_beatles_songs[0]"
   ]
  },
  {
   "cell_type": "code",
   "execution_count": 17,
   "metadata": {
    "collapsed": false
   },
   "outputs": [
    {
     "data": {
      "text/plain": [
       "[347, 208, 231]"
      ]
     },
     "execution_count": 17,
     "metadata": {},
     "output_type": "execute_result"
    }
   ],
   "source": [
    "num_of_songs=[len(the_beatles_songs),len(britney_spears_songs),len(eminem_songs)]\n",
    "num_of_songs"
   ]
  },
  {
   "cell_type": "markdown",
   "metadata": {},
   "source": [
    "## Data preparation"
   ]
  },
  {
   "cell_type": "markdown",
   "metadata": {},
   "source": [
    "### Organize the data"
   ]
  },
  {
   "cell_type": "code",
   "execution_count": 18,
   "metadata": {
    "collapsed": false
   },
   "outputs": [],
   "source": [
    "#adding singer name to each song on the lsit\n",
    "for song_list, singer in zip(\n",
    "            [the_beatles_songs, britney_spears_songs, eminem_songs, ],\n",
    "            [\"The Beatles\", \"Britney Spearss\", \"Eminem\"]):\n",
    "        (map(lambda song: song.append(singer), song_list))"
   ]
  },
  {
   "cell_type": "markdown",
   "metadata": {},
   "source": [
    "now each song is a triple headline,lyrics,singer"
   ]
  },
  {
   "cell_type": "code",
   "execution_count": 19,
   "metadata": {
    "collapsed": false
   },
   "outputs": [
    {
     "data": {
      "text/plain": [
       "[['I Saw Her Standing There',\n",
       "  u\"One, two, three, four!\\n\\nWell, she was just seventeen\\nIf you know what I mean\\nAnd the way she looked\\nWas way beyond compare\\nSo how could I dance with another\\nWhen I saw her standing there?\\n\\nWell, she looked at me\\nAnd I, I could see\\nThat before too long\\nI'd fall in love with her\\nShe wouldn't dance with another\\nWhen I saw her standing there\\n\\nWell, my heart went boom\\nWhen I crossed that room\\nAnd I held her hand in mine\\n\\nWhoa, we danced through the night\\nAnd we held each other tight\\nAnd before too long\\nI fell in love with her\\nNow, I'll never dance with another\\nWhen I saw her standing there\\n\\nWell, my heart went boom\\nWhen I crossed that room\\nAnd I held her hand in mine\\n\\nOh, we danced through the night\\nAnd we held each other tight\\nAnd before too long\\nI fell in love with her\\nNow, I'll never dance with another\\nSince I saw her standing there\\nWhoa, since I saw her standing there\\nYeah, well, since I saw her standing there\",\n",
       "  'The Beatles']]"
      ]
     },
     "execution_count": 19,
     "metadata": {},
     "output_type": "execute_result"
    }
   ],
   "source": [
    "the_beatles_songs[0:1]"
   ]
  },
  {
   "cell_type": "code",
   "execution_count": 20,
   "metadata": {
    "collapsed": false
   },
   "outputs": [
    {
     "name": "stdout",
     "output_type": "stream",
     "text": [
      "songs befor remove dupliaction786\n",
      "songs after remove dupliaction580\n"
     ]
    }
   ],
   "source": [
    "# adding all songs to one list\n",
    "songs_list=the_beatles_songs+britney_spears_songs+eminem_songs\n",
    "\n",
    "#remove dupliaction\n",
    "print (\"songs befor remove dupliaction\" + str(len(songs_list)) )\n",
    "\n",
    "seen=set()\n",
    "temp=[]\n",
    "for song in songs_list:\n",
    "    if not song[0] in seen:\n",
    "        seen.add(song[0])\n",
    "        temp.append(song)\n",
    "songs_list=temp\n",
    "\n",
    "print (\"songs after remove dupliaction\" + str(len(songs_list)) )"
   ]
  },
  {
   "cell_type": "markdown",
   "metadata": {},
   "source": [
    "we can see the 206 song where duplicate"
   ]
  },
  {
   "cell_type": "markdown",
   "metadata": {},
   "source": [
    "### Cleaning the data"
   ]
  },
  {
   "cell_type": "code",
   "execution_count": 21,
   "metadata": {
    "collapsed": false,
    "scrolled": true
   },
   "outputs": [
    {
     "data": {
      "text/plain": [
       "[['I Saw Her Standing There',\n",
       "  \"one  two  three  four   well  she was just seventeen if you know what i mean and the way she looked was way beyond compare so how could i dance with another when i saw her standing there   well  she looked at me and i  i could see that before too long i'd fall in love with her she wouldn't dance with another when i saw her standing there  well  my heart went boom when i crossed that room and i held her hand in mine  whoa  we danced through the night and we held each other tight and before too long i fell in love with her now  i'll never dance with another when i saw her standing there  well  my heart went boom when i crossed that room and i held her hand in mine  oh  we danced through the night and we held each other tight and before too long i fell in love with her now  i'll never dance with another since i saw her standing there whoa  since i saw her standing there yeah  well  since i saw her standing there\",\n",
       "  'The Beatles']]"
      ]
     },
     "execution_count": 21,
     "metadata": {},
     "output_type": "execute_result"
    }
   ],
   "source": [
    "import unicodedata\n",
    "import re\n",
    "\n",
    "#saving original songs structure for later analysis\n",
    "songs_original_lyrics=[x[1] for x in songs_list]\n",
    "\n",
    "#change song lyrics to string of words withot structure\n",
    "regex = re.compile('[^a-zA-Z1-9\\'\\s]')\n",
    "def clean_lyrics(song):\n",
    "    song[1]=unicodedata.normalize('NFKD', song[1]).encode('ascii', 'ignore')\n",
    "    song[1]=re.sub('[^a-zA-Z1-9\\']',\" \",song[1])\n",
    "    song[1]=song[1].lower()\n",
    "\n",
    "map(clean_lyrics ,songs_list)\n",
    "songs_list[0:1]"
   ]
  },
  {
   "cell_type": "markdown",
   "metadata": {},
   "source": [
    "### Feature engineering"
   ]
  },
  {
   "cell_type": "code",
   "execution_count": 22,
   "metadata": {
    "collapsed": true
   },
   "outputs": [],
   "source": [
    "import nltk\n",
    "\n",
    "# count number of words in each song\n",
    "num_of_words=[len (nltk.word_tokenize(song[1])) for song in songs_list]"
   ]
  },
  {
   "cell_type": "code",
   "execution_count": 23,
   "metadata": {
    "collapsed": false
   },
   "outputs": [],
   "source": [
    "import collections\n",
    "#count the next features verse_number chorus_number lines_in_chorus avg_line_in_verse\n",
    "\n",
    "songs_original_lyrics=map (lambda song : unicodedata.normalize('NFKD', song).encode('ascii', 'ignore'),songs_original_lyrics )\n",
    "data=[]\n",
    "for song in songs_original_lyrics:\n",
    "    verse_list = song.split(\"\\n\\n\")\n",
    "    chorus = [item for item, count in collections.Counter(verse_list).items() if count > 1]\n",
    "    verse = [item for item, count in collections.Counter(verse_list).items() if count == 1]\n",
    "    verse_num=len(verse)\n",
    "    chorus_num = [count for item, count in collections.Counter(verse_list).items() if count > 1][0] if len(chorus)>0 else 0   \n",
    "    lines_in_chorus=len (chorus[0].split(\"\\n\")) if len(chorus)>0 else 0\n",
    "    if len(verse)>0:\n",
    "        avg_line_in_verse= float(reduce((lambda x, y: x + y),\n",
    "                              map(lambda x: len(x.split(\"\\n\")),verse)))/len (verse)\n",
    "    else:\n",
    "        avg_line_in_verse=0\n",
    "    data.append([verse_num,chorus_num,lines_in_chorus,avg_line_in_verse])\n"
   ]
  },
  {
   "cell_type": "code",
   "execution_count": 24,
   "metadata": {
    "collapsed": false
   },
   "outputs": [
    {
     "data": {
      "text/html": [
       "<div>\n",
       "<table border=\"1\" class=\"dataframe\">\n",
       "  <thead>\n",
       "    <tr style=\"text-align: right;\">\n",
       "      <th></th>\n",
       "      <th>headline</th>\n",
       "      <th>lyrics</th>\n",
       "      <th>singer</th>\n",
       "      <th>word_count</th>\n",
       "      <th>verse_count</th>\n",
       "      <th>chorus_count</th>\n",
       "      <th>lines_in_chorus_count</th>\n",
       "      <th>avg_line_in_verse_count</th>\n",
       "    </tr>\n",
       "  </thead>\n",
       "  <tbody>\n",
       "    <tr>\n",
       "      <th>0</th>\n",
       "      <td>I Saw Her Standing There</td>\n",
       "      <td>one  two  three  four   well  she was just sev...</td>\n",
       "      <td>The Beatles</td>\n",
       "      <td>189</td>\n",
       "      <td>5</td>\n",
       "      <td>2</td>\n",
       "      <td>3</td>\n",
       "      <td>5.400000</td>\n",
       "    </tr>\n",
       "    <tr>\n",
       "      <th>1</th>\n",
       "      <td>Misery</td>\n",
       "      <td>the world is treating me bad misery  i'm the k...</td>\n",
       "      <td>The Beatles</td>\n",
       "      <td>129</td>\n",
       "      <td>7</td>\n",
       "      <td>0</td>\n",
       "      <td>0</td>\n",
       "      <td>3.857143</td>\n",
       "    </tr>\n",
       "    <tr>\n",
       "      <th>2</th>\n",
       "      <td>Anna (Go To Him)</td>\n",
       "      <td>anna you come and ask me  girl to set you free...</td>\n",
       "      <td>The Beatles</td>\n",
       "      <td>205</td>\n",
       "      <td>6</td>\n",
       "      <td>0</td>\n",
       "      <td>0</td>\n",
       "      <td>6.666667</td>\n",
       "    </tr>\n",
       "  </tbody>\n",
       "</table>\n",
       "</div>"
      ],
      "text/plain": [
       "                   headline  \\\n",
       "0  I Saw Her Standing There   \n",
       "1                    Misery   \n",
       "2          Anna (Go To Him)   \n",
       "\n",
       "                                              lyrics       singer  word_count  \\\n",
       "0  one  two  three  four   well  she was just sev...  The Beatles         189   \n",
       "1  the world is treating me bad misery  i'm the k...  The Beatles         129   \n",
       "2  anna you come and ask me  girl to set you free...  The Beatles         205   \n",
       "\n",
       "   verse_count  chorus_count  lines_in_chorus_count  avg_line_in_verse_count  \n",
       "0            5             2                      3                 5.400000  \n",
       "1            7             0                      0                 3.857143  \n",
       "2            6             0                      0                 6.666667  "
      ]
     },
     "execution_count": 24,
     "metadata": {},
     "output_type": "execute_result"
    }
   ],
   "source": [
    "#create data frame with all features per song\n",
    "for song,word,features in zip(songs_list,num_of_words,data):\n",
    "    song.append(word)\n",
    "    song.extend (features)\n",
    "    \n",
    "\n",
    "import pandas as pd\n",
    "df = pd.DataFrame(songs_list,columns=['headline','lyrics','singer','word_count','verse_count','chorus_count','lines_in_chorus_count','avg_line_in_verse_count'])    \n",
    "#show examle of th data\n",
    "df.head(3)\n"
   ]
  },
  {
   "cell_type": "markdown",
   "metadata": {},
   "source": [
    "### Data understanding "
   ]
  },
  {
   "cell_type": "markdown",
   "metadata": {},
   "source": [
    "let's see summary of the data"
   ]
  },
  {
   "cell_type": "code",
   "execution_count": 25,
   "metadata": {
    "collapsed": false
   },
   "outputs": [
    {
     "data": {
      "text/html": [
       "<div>\n",
       "<table border=\"1\" class=\"dataframe\">\n",
       "  <thead>\n",
       "    <tr style=\"text-align: right;\">\n",
       "      <th></th>\n",
       "      <th>word_count</th>\n",
       "      <th>verse_count</th>\n",
       "      <th>chorus_count</th>\n",
       "      <th>lines_in_chorus_count</th>\n",
       "      <th>avg_line_in_verse_count</th>\n",
       "    </tr>\n",
       "  </thead>\n",
       "  <tbody>\n",
       "    <tr>\n",
       "      <th>count</th>\n",
       "      <td>580.000000</td>\n",
       "      <td>580.000000</td>\n",
       "      <td>580.000000</td>\n",
       "      <td>580.000000</td>\n",
       "      <td>580.000000</td>\n",
       "    </tr>\n",
       "    <tr>\n",
       "      <th>mean</th>\n",
       "      <td>443.372414</td>\n",
       "      <td>8.246552</td>\n",
       "      <td>1.584483</td>\n",
       "      <td>2.818966</td>\n",
       "      <td>6.518048</td>\n",
       "    </tr>\n",
       "    <tr>\n",
       "      <th>std</th>\n",
       "      <td>319.514240</td>\n",
       "      <td>6.990957</td>\n",
       "      <td>1.552123</td>\n",
       "      <td>2.955628</td>\n",
       "      <td>5.520195</td>\n",
       "    </tr>\n",
       "    <tr>\n",
       "      <th>min</th>\n",
       "      <td>19.000000</td>\n",
       "      <td>0.000000</td>\n",
       "      <td>0.000000</td>\n",
       "      <td>0.000000</td>\n",
       "      <td>0.000000</td>\n",
       "    </tr>\n",
       "    <tr>\n",
       "      <th>25%</th>\n",
       "      <td>197.000000</td>\n",
       "      <td>4.000000</td>\n",
       "      <td>0.000000</td>\n",
       "      <td>0.000000</td>\n",
       "      <td>3.887255</td>\n",
       "    </tr>\n",
       "    <tr>\n",
       "      <th>50%</th>\n",
       "      <td>316.500000</td>\n",
       "      <td>6.000000</td>\n",
       "      <td>2.000000</td>\n",
       "      <td>3.000000</td>\n",
       "      <td>4.750000</td>\n",
       "    </tr>\n",
       "    <tr>\n",
       "      <th>75%</th>\n",
       "      <td>712.000000</td>\n",
       "      <td>10.000000</td>\n",
       "      <td>2.000000</td>\n",
       "      <td>4.000000</td>\n",
       "      <td>6.800000</td>\n",
       "    </tr>\n",
       "    <tr>\n",
       "      <th>max</th>\n",
       "      <td>1542.000000</td>\n",
       "      <td>85.000000</td>\n",
       "      <td>8.000000</td>\n",
       "      <td>18.000000</td>\n",
       "      <td>61.000000</td>\n",
       "    </tr>\n",
       "  </tbody>\n",
       "</table>\n",
       "</div>"
      ],
      "text/plain": [
       "        word_count  verse_count  chorus_count  lines_in_chorus_count  \\\n",
       "count   580.000000   580.000000    580.000000             580.000000   \n",
       "mean    443.372414     8.246552      1.584483               2.818966   \n",
       "std     319.514240     6.990957      1.552123               2.955628   \n",
       "min      19.000000     0.000000      0.000000               0.000000   \n",
       "25%     197.000000     4.000000      0.000000               0.000000   \n",
       "50%     316.500000     6.000000      2.000000               3.000000   \n",
       "75%     712.000000    10.000000      2.000000               4.000000   \n",
       "max    1542.000000    85.000000      8.000000              18.000000   \n",
       "\n",
       "       avg_line_in_verse_count  \n",
       "count               580.000000  \n",
       "mean                  6.518048  \n",
       "std                   5.520195  \n",
       "min                   0.000000  \n",
       "25%                   3.887255  \n",
       "50%                   4.750000  \n",
       "75%                   6.800000  \n",
       "max                  61.000000  "
      ]
     },
     "execution_count": 25,
     "metadata": {},
     "output_type": "execute_result"
    }
   ],
   "source": [
    "df.dropna().describe()"
   ]
  },
  {
   "cell_type": "markdown",
   "metadata": {},
   "source": [
    "We feel that the max value for each attribute is a little higher the expected so we will check the data just to be sure"
   ]
  },
  {
   "cell_type": "code",
   "execution_count": 26,
   "metadata": {
    "collapsed": false
   },
   "outputs": [
    {
     "data": {
      "text/html": [
       "<div>\n",
       "<table border=\"1\" class=\"dataframe\">\n",
       "  <thead>\n",
       "    <tr style=\"text-align: right;\">\n",
       "      <th></th>\n",
       "      <th>headline</th>\n",
       "      <th>lyrics</th>\n",
       "      <th>singer</th>\n",
       "      <th>word_count</th>\n",
       "      <th>verse_count</th>\n",
       "      <th>chorus_count</th>\n",
       "      <th>lines_in_chorus_count</th>\n",
       "      <th>avg_line_in_verse_count</th>\n",
       "    </tr>\n",
       "  </thead>\n",
       "  <tbody>\n",
       "    <tr>\n",
       "      <th>566</th>\n",
       "      <td>Bad Guy</td>\n",
       "      <td>it's like i'm in this dirt digging up old hurt...</td>\n",
       "      <td>Eminem</td>\n",
       "      <td>1542</td>\n",
       "      <td>21</td>\n",
       "      <td>2</td>\n",
       "      <td>7</td>\n",
       "      <td>6.619048</td>\n",
       "    </tr>\n",
       "    <tr>\n",
       "      <th>428</th>\n",
       "      <td>Stan</td>\n",
       "      <td>my tea's gone cold i'm wondering why i got out...</td>\n",
       "      <td>Eminem</td>\n",
       "      <td>1446</td>\n",
       "      <td>22</td>\n",
       "      <td>5</td>\n",
       "      <td>6</td>\n",
       "      <td>4.136364</td>\n",
       "    </tr>\n",
       "    <tr>\n",
       "      <th>452</th>\n",
       "      <td>We Shine</td>\n",
       "      <td>bust it rugged  shine like a gold nugget   wha...</td>\n",
       "      <td>Eminem</td>\n",
       "      <td>1252</td>\n",
       "      <td>5</td>\n",
       "      <td>2</td>\n",
       "      <td>8</td>\n",
       "      <td>18.400000</td>\n",
       "    </tr>\n",
       "  </tbody>\n",
       "</table>\n",
       "</div>"
      ],
      "text/plain": [
       "     headline                                             lyrics  singer  \\\n",
       "566   Bad Guy  it's like i'm in this dirt digging up old hurt...  Eminem   \n",
       "428      Stan  my tea's gone cold i'm wondering why i got out...  Eminem   \n",
       "452  We Shine  bust it rugged  shine like a gold nugget   wha...  Eminem   \n",
       "\n",
       "     word_count  verse_count  chorus_count  lines_in_chorus_count  \\\n",
       "566        1542           21             2                      7   \n",
       "428        1446           22             5                      6   \n",
       "452        1252            5             2                      8   \n",
       "\n",
       "     avg_line_in_verse_count  \n",
       "566                 6.619048  \n",
       "428                 4.136364  \n",
       "452                18.400000  "
      ]
     },
     "execution_count": 26,
     "metadata": {},
     "output_type": "execute_result"
    }
   ],
   "source": [
    "df.sort_values('word_count',ascending=False).head(3)"
   ]
  },
  {
   "cell_type": "code",
   "execution_count": 27,
   "metadata": {
    "collapsed": false
   },
   "outputs": [
    {
     "data": {
      "text/html": [
       "<div>\n",
       "<table border=\"1\" class=\"dataframe\">\n",
       "  <thead>\n",
       "    <tr style=\"text-align: right;\">\n",
       "      <th></th>\n",
       "      <th>headline</th>\n",
       "      <th>lyrics</th>\n",
       "      <th>singer</th>\n",
       "      <th>word_count</th>\n",
       "      <th>verse_count</th>\n",
       "      <th>chorus_count</th>\n",
       "      <th>lines_in_chorus_count</th>\n",
       "      <th>avg_line_in_verse_count</th>\n",
       "    </tr>\n",
       "  </thead>\n",
       "  <tbody>\n",
       "    <tr>\n",
       "      <th>193</th>\n",
       "      <td>The Beatles Third Christmas Record</td>\n",
       "      <td>all    singing  all my troubles seemed so far...</td>\n",
       "      <td>The Beatles</td>\n",
       "      <td>1195</td>\n",
       "      <td>85</td>\n",
       "      <td>3</td>\n",
       "      <td>1</td>\n",
       "      <td>1.623529</td>\n",
       "    </tr>\n",
       "    <tr>\n",
       "      <th>195</th>\n",
       "      <td>Christmas Time (Is Here Again)</td>\n",
       "      <td>j   it's a clumsy remix  take 444    all    s...</td>\n",
       "      <td>The Beatles</td>\n",
       "      <td>618</td>\n",
       "      <td>52</td>\n",
       "      <td>0</td>\n",
       "      <td>0</td>\n",
       "      <td>1.884615</td>\n",
       "    </tr>\n",
       "    <tr>\n",
       "      <th>467</th>\n",
       "      <td>The Kiss</td>\n",
       "      <td>eminem  i'm gonna kill this bitch  i'm gonna ...</td>\n",
       "      <td>Eminem</td>\n",
       "      <td>332</td>\n",
       "      <td>45</td>\n",
       "      <td>0</td>\n",
       "      <td>0</td>\n",
       "      <td>2.177778</td>\n",
       "    </tr>\n",
       "  </tbody>\n",
       "</table>\n",
       "</div>"
      ],
      "text/plain": [
       "                               headline  \\\n",
       "193  The Beatles Third Christmas Record   \n",
       "195      Christmas Time (Is Here Again)   \n",
       "467                            The Kiss   \n",
       "\n",
       "                                                lyrics       singer  \\\n",
       "193   all    singing  all my troubles seemed so far...  The Beatles   \n",
       "195   j   it's a clumsy remix  take 444    all    s...  The Beatles   \n",
       "467   eminem  i'm gonna kill this bitch  i'm gonna ...       Eminem   \n",
       "\n",
       "     word_count  verse_count  chorus_count  lines_in_chorus_count  \\\n",
       "193        1195           85             3                      1   \n",
       "195         618           52             0                      0   \n",
       "467         332           45             0                      0   \n",
       "\n",
       "     avg_line_in_verse_count  \n",
       "193                 1.623529  \n",
       "195                 1.884615  \n",
       "467                 2.177778  "
      ]
     },
     "execution_count": 27,
     "metadata": {},
     "output_type": "execute_result"
    }
   ],
   "source": [
    "df.sort_values('verse_count',ascending=False).head(3)"
   ]
  },
  {
   "cell_type": "code",
   "execution_count": 28,
   "metadata": {
    "collapsed": false
   },
   "outputs": [
    {
     "data": {
      "text/html": [
       "<div>\n",
       "<table border=\"1\" class=\"dataframe\">\n",
       "  <thead>\n",
       "    <tr style=\"text-align: right;\">\n",
       "      <th></th>\n",
       "      <th>headline</th>\n",
       "      <th>lyrics</th>\n",
       "      <th>singer</th>\n",
       "      <th>word_count</th>\n",
       "      <th>verse_count</th>\n",
       "      <th>chorus_count</th>\n",
       "      <th>lines_in_chorus_count</th>\n",
       "      <th>avg_line_in_verse_count</th>\n",
       "    </tr>\n",
       "  </thead>\n",
       "  <tbody>\n",
       "    <tr>\n",
       "      <th>434</th>\n",
       "      <td>I'm Back</td>\n",
       "      <td>that's why they call me slim shady  i'm back  ...</td>\n",
       "      <td>Eminem</td>\n",
       "      <td>1059</td>\n",
       "      <td>15</td>\n",
       "      <td>8</td>\n",
       "      <td>4</td>\n",
       "      <td>4.933333</td>\n",
       "    </tr>\n",
       "    <tr>\n",
       "      <th>577</th>\n",
       "      <td>Beautiful Pain</td>\n",
       "      <td>i can feel the heat rising everything is on fi...</td>\n",
       "      <td>Eminem</td>\n",
       "      <td>783</td>\n",
       "      <td>7</td>\n",
       "      <td>7</td>\n",
       "      <td>4</td>\n",
       "      <td>7.285714</td>\n",
       "    </tr>\n",
       "    <tr>\n",
       "      <th>265</th>\n",
       "      <td>I Love Rock 'N' Roll</td>\n",
       "      <td>hey  is this thing on   i saw him dancing ther...</td>\n",
       "      <td>Britney Spearss</td>\n",
       "      <td>409</td>\n",
       "      <td>5</td>\n",
       "      <td>7</td>\n",
       "      <td>4</td>\n",
       "      <td>5.000000</td>\n",
       "    </tr>\n",
       "  </tbody>\n",
       "</table>\n",
       "</div>"
      ],
      "text/plain": [
       "                 headline                                             lyrics  \\\n",
       "434              I'm Back  that's why they call me slim shady  i'm back  ...   \n",
       "577        Beautiful Pain  i can feel the heat rising everything is on fi...   \n",
       "265  I Love Rock 'N' Roll  hey  is this thing on   i saw him dancing ther...   \n",
       "\n",
       "              singer  word_count  verse_count  chorus_count  \\\n",
       "434           Eminem        1059           15             8   \n",
       "577           Eminem         783            7             7   \n",
       "265  Britney Spearss         409            5             7   \n",
       "\n",
       "     lines_in_chorus_count  avg_line_in_verse_count  \n",
       "434                      4                 4.933333  \n",
       "577                      4                 7.285714  \n",
       "265                      4                 5.000000  "
      ]
     },
     "execution_count": 28,
     "metadata": {},
     "output_type": "execute_result"
    }
   ],
   "source": [
    "df.sort_values('chorus_count',ascending=False).head(3)"
   ]
  },
  {
   "cell_type": "code",
   "execution_count": 29,
   "metadata": {
    "collapsed": false
   },
   "outputs": [
    {
     "data": {
      "text/html": [
       "<div>\n",
       "<table border=\"1\" class=\"dataframe\">\n",
       "  <thead>\n",
       "    <tr style=\"text-align: right;\">\n",
       "      <th></th>\n",
       "      <th>headline</th>\n",
       "      <th>lyrics</th>\n",
       "      <th>singer</th>\n",
       "      <th>word_count</th>\n",
       "      <th>verse_count</th>\n",
       "      <th>chorus_count</th>\n",
       "      <th>lines_in_chorus_count</th>\n",
       "      <th>avg_line_in_verse_count</th>\n",
       "    </tr>\n",
       "  </thead>\n",
       "  <tbody>\n",
       "    <tr>\n",
       "      <th>69</th>\n",
       "      <td>You Won't See Me</td>\n",
       "      <td>when i call you up your line's engaged i have ...</td>\n",
       "      <td>The Beatles</td>\n",
       "      <td>412</td>\n",
       "      <td>3</td>\n",
       "      <td>2</td>\n",
       "      <td>18</td>\n",
       "      <td>11.000000</td>\n",
       "    </tr>\n",
       "    <tr>\n",
       "      <th>288</th>\n",
       "      <td>Don't Hang Up</td>\n",
       "      <td>baby i'm lying all alone a pillow is all i hav...</td>\n",
       "      <td>Britney Spearss</td>\n",
       "      <td>375</td>\n",
       "      <td>5</td>\n",
       "      <td>2</td>\n",
       "      <td>16</td>\n",
       "      <td>9.400000</td>\n",
       "    </tr>\n",
       "    <tr>\n",
       "      <th>479</th>\n",
       "      <td>Monkey See Monkey Do</td>\n",
       "      <td>ha ha ha ha ha ha ha ay yo 5  whut i tell you ...</td>\n",
       "      <td>Eminem</td>\n",
       "      <td>713</td>\n",
       "      <td>3</td>\n",
       "      <td>2</td>\n",
       "      <td>15</td>\n",
       "      <td>23.666667</td>\n",
       "    </tr>\n",
       "  </tbody>\n",
       "</table>\n",
       "</div>"
      ],
      "text/plain": [
       "                 headline                                             lyrics  \\\n",
       "69       You Won't See Me  when i call you up your line's engaged i have ...   \n",
       "288         Don't Hang Up  baby i'm lying all alone a pillow is all i hav...   \n",
       "479  Monkey See Monkey Do  ha ha ha ha ha ha ha ay yo 5  whut i tell you ...   \n",
       "\n",
       "              singer  word_count  verse_count  chorus_count  \\\n",
       "69       The Beatles         412            3             2   \n",
       "288  Britney Spearss         375            5             2   \n",
       "479           Eminem         713            3             2   \n",
       "\n",
       "     lines_in_chorus_count  avg_line_in_verse_count  \n",
       "69                      18                11.000000  \n",
       "288                     16                 9.400000  \n",
       "479                     15                23.666667  "
      ]
     },
     "execution_count": 29,
     "metadata": {},
     "output_type": "execute_result"
    }
   ],
   "source": [
    "df.sort_values('lines_in_chorus_count',ascending=False).head(3)"
   ]
  },
  {
   "cell_type": "code",
   "execution_count": 30,
   "metadata": {
    "collapsed": false
   },
   "outputs": [
    {
     "data": {
      "text/html": [
       "<div>\n",
       "<table border=\"1\" class=\"dataframe\">\n",
       "  <thead>\n",
       "    <tr style=\"text-align: right;\">\n",
       "      <th></th>\n",
       "      <th>headline</th>\n",
       "      <th>lyrics</th>\n",
       "      <th>singer</th>\n",
       "      <th>word_count</th>\n",
       "      <th>verse_count</th>\n",
       "      <th>chorus_count</th>\n",
       "      <th>lines_in_chorus_count</th>\n",
       "      <th>avg_line_in_verse_count</th>\n",
       "    </tr>\n",
       "  </thead>\n",
       "  <tbody>\n",
       "    <tr>\n",
       "      <th>518</th>\n",
       "      <td>Freestyle (Dissin' The Source)</td>\n",
       "      <td>i got a riddle  what's little and talks big  w...</td>\n",
       "      <td>Eminem</td>\n",
       "      <td>517</td>\n",
       "      <td>1</td>\n",
       "      <td>0</td>\n",
       "      <td>0</td>\n",
       "      <td>61.0</td>\n",
       "    </tr>\n",
       "    <tr>\n",
       "      <th>306</th>\n",
       "      <td>Everytime (Valentin Remix)</td>\n",
       "      <td>come notice me and take my hand so why are we ...</td>\n",
       "      <td>Britney Spearss</td>\n",
       "      <td>214</td>\n",
       "      <td>1</td>\n",
       "      <td>0</td>\n",
       "      <td>0</td>\n",
       "      <td>41.0</td>\n",
       "    </tr>\n",
       "    <tr>\n",
       "      <th>525</th>\n",
       "      <td>Dr. West (Skit)</td>\n",
       "      <td>morning  marshall    morning  doc    so we're...</td>\n",
       "      <td>Eminem</td>\n",
       "      <td>324</td>\n",
       "      <td>1</td>\n",
       "      <td>0</td>\n",
       "      <td>0</td>\n",
       "      <td>40.0</td>\n",
       "    </tr>\n",
       "  </tbody>\n",
       "</table>\n",
       "</div>"
      ],
      "text/plain": [
       "                           headline  \\\n",
       "518  Freestyle (Dissin' The Source)   \n",
       "306      Everytime (Valentin Remix)   \n",
       "525                 Dr. West (Skit)   \n",
       "\n",
       "                                                lyrics           singer  \\\n",
       "518  i got a riddle  what's little and talks big  w...           Eminem   \n",
       "306  come notice me and take my hand so why are we ...  Britney Spearss   \n",
       "525   morning  marshall    morning  doc    so we're...           Eminem   \n",
       "\n",
       "     word_count  verse_count  chorus_count  lines_in_chorus_count  \\\n",
       "518         517            1             0                      0   \n",
       "306         214            1             0                      0   \n",
       "525         324            1             0                      0   \n",
       "\n",
       "     avg_line_in_verse_count  \n",
       "518                     61.0  \n",
       "306                     41.0  \n",
       "525                     40.0  "
      ]
     },
     "execution_count": 30,
     "metadata": {},
     "output_type": "execute_result"
    }
   ],
   "source": [
    "df.sort_values('avg_line_in_verse_count',ascending=False).head(3)"
   ]
  },
  {
   "cell_type": "markdown",
   "metadata": {},
   "source": [
    "Most of high valuse are for eminem wich make sense so most of them ok. but for the verse count max values we can see that The Beatles have a few records so we will remove those."
   ]
  },
  {
   "cell_type": "code",
   "execution_count": 31,
   "metadata": {
    "collapsed": false,
    "scrolled": true
   },
   "outputs": [
    {
     "data": {
      "text/html": [
       "<div>\n",
       "<table border=\"1\" class=\"dataframe\">\n",
       "  <thead>\n",
       "    <tr style=\"text-align: right;\">\n",
       "      <th></th>\n",
       "      <th>headline</th>\n",
       "      <th>lyrics</th>\n",
       "      <th>singer</th>\n",
       "      <th>word_count</th>\n",
       "      <th>verse_count</th>\n",
       "      <th>chorus_count</th>\n",
       "      <th>lines_in_chorus_count</th>\n",
       "      <th>avg_line_in_verse_count</th>\n",
       "    </tr>\n",
       "  </thead>\n",
       "  <tbody>\n",
       "    <tr>\n",
       "      <th>193</th>\n",
       "      <td>The Beatles Third Christmas Record</td>\n",
       "      <td>all    singing  all my troubles seemed so far...</td>\n",
       "      <td>The Beatles</td>\n",
       "      <td>1195</td>\n",
       "      <td>85</td>\n",
       "      <td>3</td>\n",
       "      <td>1</td>\n",
       "      <td>1.623529</td>\n",
       "    </tr>\n",
       "    <tr>\n",
       "      <th>195</th>\n",
       "      <td>Christmas Time (Is Here Again)</td>\n",
       "      <td>j   it's a clumsy remix  take 444    all    s...</td>\n",
       "      <td>The Beatles</td>\n",
       "      <td>618</td>\n",
       "      <td>52</td>\n",
       "      <td>0</td>\n",
       "      <td>0</td>\n",
       "      <td>1.884615</td>\n",
       "    </tr>\n",
       "    <tr>\n",
       "      <th>197</th>\n",
       "      <td>The Beatles Seventh Christmas Record</td>\n",
       "      <td>mama    j   now you lads  will you just shout ...</td>\n",
       "      <td>The Beatles</td>\n",
       "      <td>854</td>\n",
       "      <td>43</td>\n",
       "      <td>0</td>\n",
       "      <td>0</td>\n",
       "      <td>2.860465</td>\n",
       "    </tr>\n",
       "    <tr>\n",
       "      <th>194</th>\n",
       "      <td>Pantomime / Everywhere It's Christmas</td>\n",
       "      <td>all    singing  ev'rywhere it's christmas ev'...</td>\n",
       "      <td>The Beatles</td>\n",
       "      <td>773</td>\n",
       "      <td>35</td>\n",
       "      <td>0</td>\n",
       "      <td>0</td>\n",
       "      <td>2.371429</td>\n",
       "    </tr>\n",
       "    <tr>\n",
       "      <th>192</th>\n",
       "      <td>Another Beatles Christmas Record</td>\n",
       "      <td>all    singing  jingle bells      p   hello  ...</td>\n",
       "      <td>The Beatles</td>\n",
       "      <td>710</td>\n",
       "      <td>29</td>\n",
       "      <td>0</td>\n",
       "      <td>0</td>\n",
       "      <td>1.413793</td>\n",
       "    </tr>\n",
       "    <tr>\n",
       "      <th>196</th>\n",
       "      <td>The Beatles 1968 Christmas Record</td>\n",
       "      <td>r   hello  this is a big  hi  and a sincere m...</td>\n",
       "      <td>The Beatles</td>\n",
       "      <td>900</td>\n",
       "      <td>25</td>\n",
       "      <td>0</td>\n",
       "      <td>0</td>\n",
       "      <td>4.480000</td>\n",
       "    </tr>\n",
       "    <tr>\n",
       "      <th>191</th>\n",
       "      <td>The Beatles Christmas Record</td>\n",
       "      <td>hoo   all   good king wenceslas looked out on ...</td>\n",
       "      <td>The Beatles</td>\n",
       "      <td>954</td>\n",
       "      <td>17</td>\n",
       "      <td>0</td>\n",
       "      <td>0</td>\n",
       "      <td>2.823529</td>\n",
       "    </tr>\n",
       "    <tr>\n",
       "      <th>187</th>\n",
       "      <td>Hey Jude</td>\n",
       "      <td>hey jude  don't make it bad take a sad song an...</td>\n",
       "      <td>The Beatles</td>\n",
       "      <td>405</td>\n",
       "      <td>16</td>\n",
       "      <td>3</td>\n",
       "      <td>4</td>\n",
       "      <td>3.500000</td>\n",
       "    </tr>\n",
       "    <tr>\n",
       "      <th>149</th>\n",
       "      <td>It's All Too Much</td>\n",
       "      <td>spoken  to your mother   it's all too much  it...</td>\n",
       "      <td>The Beatles</td>\n",
       "      <td>411</td>\n",
       "      <td>14</td>\n",
       "      <td>2</td>\n",
       "      <td>4</td>\n",
       "      <td>4.642857</td>\n",
       "    </tr>\n",
       "    <tr>\n",
       "      <th>177</th>\n",
       "      <td>Let It Be</td>\n",
       "      <td>when i find myself in times of trouble mother ...</td>\n",
       "      <td>The Beatles</td>\n",
       "      <td>272</td>\n",
       "      <td>13</td>\n",
       "      <td>0</td>\n",
       "      <td>0</td>\n",
       "      <td>4.000000</td>\n",
       "    </tr>\n",
       "    <tr>\n",
       "      <th>104</th>\n",
       "      <td>Good Morning Good Morning</td>\n",
       "      <td>good morning good morning good morning good mo...</td>\n",
       "      <td>The Beatles</td>\n",
       "      <td>289</td>\n",
       "      <td>12</td>\n",
       "      <td>0</td>\n",
       "      <td>0</td>\n",
       "      <td>3.833333</td>\n",
       "    </tr>\n",
       "    <tr>\n",
       "      <th>140</th>\n",
       "      <td>Helter Skelter</td>\n",
       "      <td>when i get to the bottom i go back to the top ...</td>\n",
       "      <td>The Beatles</td>\n",
       "      <td>366</td>\n",
       "      <td>12</td>\n",
       "      <td>2</td>\n",
       "      <td>3</td>\n",
       "      <td>4.583333</td>\n",
       "    </tr>\n",
       "    <tr>\n",
       "      <th>216</th>\n",
       "      <td>Get Back (Naked Version)</td>\n",
       "      <td>spoken  rosetta level  john   sweet loretta fa...</td>\n",
       "      <td>The Beatles</td>\n",
       "      <td>233</td>\n",
       "      <td>12</td>\n",
       "      <td>0</td>\n",
       "      <td>0</td>\n",
       "      <td>4.333333</td>\n",
       "    </tr>\n",
       "    <tr>\n",
       "      <th>183</th>\n",
       "      <td>Get Back</td>\n",
       "      <td>spoken  rosetta level  john   sweet loretta fa...</td>\n",
       "      <td>The Beatles</td>\n",
       "      <td>233</td>\n",
       "      <td>12</td>\n",
       "      <td>0</td>\n",
       "      <td>0</td>\n",
       "      <td>4.333333</td>\n",
       "    </tr>\n",
       "    <tr>\n",
       "      <th>199</th>\n",
       "      <td>She Loves You</td>\n",
       "      <td>she loved you  yeah  yeah  yeah she loved you ...</td>\n",
       "      <td>The Beatles</td>\n",
       "      <td>237</td>\n",
       "      <td>11</td>\n",
       "      <td>0</td>\n",
       "      <td>0</td>\n",
       "      <td>3.909091</td>\n",
       "    </tr>\n",
       "  </tbody>\n",
       "</table>\n",
       "</div>"
      ],
      "text/plain": [
       "                                  headline  \\\n",
       "193     The Beatles Third Christmas Record   \n",
       "195         Christmas Time (Is Here Again)   \n",
       "197   The Beatles Seventh Christmas Record   \n",
       "194  Pantomime / Everywhere It's Christmas   \n",
       "192       Another Beatles Christmas Record   \n",
       "196      The Beatles 1968 Christmas Record   \n",
       "191           The Beatles Christmas Record   \n",
       "187                               Hey Jude   \n",
       "149                      It's All Too Much   \n",
       "177                              Let It Be   \n",
       "104              Good Morning Good Morning   \n",
       "140                         Helter Skelter   \n",
       "216               Get Back (Naked Version)   \n",
       "183                               Get Back   \n",
       "199                          She Loves You   \n",
       "\n",
       "                                                lyrics       singer  \\\n",
       "193   all    singing  all my troubles seemed so far...  The Beatles   \n",
       "195   j   it's a clumsy remix  take 444    all    s...  The Beatles   \n",
       "197  mama    j   now you lads  will you just shout ...  The Beatles   \n",
       "194   all    singing  ev'rywhere it's christmas ev'...  The Beatles   \n",
       "192   all    singing  jingle bells      p   hello  ...  The Beatles   \n",
       "196   r   hello  this is a big  hi  and a sincere m...  The Beatles   \n",
       "191  hoo   all   good king wenceslas looked out on ...  The Beatles   \n",
       "187  hey jude  don't make it bad take a sad song an...  The Beatles   \n",
       "149  spoken  to your mother   it's all too much  it...  The Beatles   \n",
       "177  when i find myself in times of trouble mother ...  The Beatles   \n",
       "104  good morning good morning good morning good mo...  The Beatles   \n",
       "140  when i get to the bottom i go back to the top ...  The Beatles   \n",
       "216  spoken  rosetta level  john   sweet loretta fa...  The Beatles   \n",
       "183  spoken  rosetta level  john   sweet loretta fa...  The Beatles   \n",
       "199  she loved you  yeah  yeah  yeah she loved you ...  The Beatles   \n",
       "\n",
       "     word_count  verse_count  chorus_count  lines_in_chorus_count  \\\n",
       "193        1195           85             3                      1   \n",
       "195         618           52             0                      0   \n",
       "197         854           43             0                      0   \n",
       "194         773           35             0                      0   \n",
       "192         710           29             0                      0   \n",
       "196         900           25             0                      0   \n",
       "191         954           17             0                      0   \n",
       "187         405           16             3                      4   \n",
       "149         411           14             2                      4   \n",
       "177         272           13             0                      0   \n",
       "104         289           12             0                      0   \n",
       "140         366           12             2                      3   \n",
       "216         233           12             0                      0   \n",
       "183         233           12             0                      0   \n",
       "199         237           11             0                      0   \n",
       "\n",
       "     avg_line_in_verse_count  \n",
       "193                 1.623529  \n",
       "195                 1.884615  \n",
       "197                 2.860465  \n",
       "194                 2.371429  \n",
       "192                 1.413793  \n",
       "196                 4.480000  \n",
       "191                 2.823529  \n",
       "187                 3.500000  \n",
       "149                 4.642857  \n",
       "177                 4.000000  \n",
       "104                 3.833333  \n",
       "140                 4.583333  \n",
       "216                 4.333333  \n",
       "183                 4.333333  \n",
       "199                 3.909091  "
      ]
     },
     "execution_count": 31,
     "metadata": {},
     "output_type": "execute_result"
    }
   ],
   "source": [
    "df.loc[df['singer']=='The Beatles'].sort_values('verse_count',ascending=False).head(15)"
   ]
  },
  {
   "cell_type": "markdown",
   "metadata": {},
   "source": [
    "we can see that above 16 verse are records so we will remove does"
   ]
  },
  {
   "cell_type": "code",
   "execution_count": 32,
   "metadata": {
    "collapsed": false
   },
   "outputs": [
    {
     "data": {
      "text/html": [
       "<div>\n",
       "<table border=\"1\" class=\"dataframe\">\n",
       "  <thead>\n",
       "    <tr style=\"text-align: right;\">\n",
       "      <th></th>\n",
       "      <th>word_count</th>\n",
       "      <th>verse_count</th>\n",
       "      <th>chorus_count</th>\n",
       "      <th>lines_in_chorus_count</th>\n",
       "      <th>avg_line_in_verse_count</th>\n",
       "    </tr>\n",
       "  </thead>\n",
       "  <tbody>\n",
       "    <tr>\n",
       "      <th>count</th>\n",
       "      <td>573.000000</td>\n",
       "      <td>573.000000</td>\n",
       "      <td>573.000000</td>\n",
       "      <td>573.000000</td>\n",
       "      <td>573.000000</td>\n",
       "    </tr>\n",
       "    <tr>\n",
       "      <th>mean</th>\n",
       "      <td>438.310646</td>\n",
       "      <td>7.848168</td>\n",
       "      <td>1.598604</td>\n",
       "      <td>2.851658</td>\n",
       "      <td>6.567209</td>\n",
       "    </tr>\n",
       "    <tr>\n",
       "      <th>std</th>\n",
       "      <td>317.557342</td>\n",
       "      <td>5.561134</td>\n",
       "      <td>1.551944</td>\n",
       "      <td>2.958451</td>\n",
       "      <td>5.534755</td>\n",
       "    </tr>\n",
       "    <tr>\n",
       "      <th>min</th>\n",
       "      <td>19.000000</td>\n",
       "      <td>0.000000</td>\n",
       "      <td>0.000000</td>\n",
       "      <td>0.000000</td>\n",
       "      <td>0.000000</td>\n",
       "    </tr>\n",
       "    <tr>\n",
       "      <th>25%</th>\n",
       "      <td>197.000000</td>\n",
       "      <td>4.000000</td>\n",
       "      <td>0.000000</td>\n",
       "      <td>0.000000</td>\n",
       "      <td>3.933333</td>\n",
       "    </tr>\n",
       "    <tr>\n",
       "      <th>50%</th>\n",
       "      <td>309.000000</td>\n",
       "      <td>6.000000</td>\n",
       "      <td>2.000000</td>\n",
       "      <td>3.000000</td>\n",
       "      <td>4.800000</td>\n",
       "    </tr>\n",
       "    <tr>\n",
       "      <th>75%</th>\n",
       "      <td>709.000000</td>\n",
       "      <td>9.000000</td>\n",
       "      <td>2.000000</td>\n",
       "      <td>4.000000</td>\n",
       "      <td>6.800000</td>\n",
       "    </tr>\n",
       "    <tr>\n",
       "      <th>max</th>\n",
       "      <td>1542.000000</td>\n",
       "      <td>45.000000</td>\n",
       "      <td>8.000000</td>\n",
       "      <td>18.000000</td>\n",
       "      <td>61.000000</td>\n",
       "    </tr>\n",
       "  </tbody>\n",
       "</table>\n",
       "</div>"
      ],
      "text/plain": [
       "        word_count  verse_count  chorus_count  lines_in_chorus_count  \\\n",
       "count   573.000000   573.000000    573.000000             573.000000   \n",
       "mean    438.310646     7.848168      1.598604               2.851658   \n",
       "std     317.557342     5.561134      1.551944               2.958451   \n",
       "min      19.000000     0.000000      0.000000               0.000000   \n",
       "25%     197.000000     4.000000      0.000000               0.000000   \n",
       "50%     309.000000     6.000000      2.000000               3.000000   \n",
       "75%     709.000000     9.000000      2.000000               4.000000   \n",
       "max    1542.000000    45.000000      8.000000              18.000000   \n",
       "\n",
       "       avg_line_in_verse_count  \n",
       "count               573.000000  \n",
       "mean                  6.567209  \n",
       "std                   5.534755  \n",
       "min                   0.000000  \n",
       "25%                   3.933333  \n",
       "50%                   4.800000  \n",
       "75%                   6.800000  \n",
       "max                  61.000000  "
      ]
     },
     "execution_count": 32,
     "metadata": {},
     "output_type": "execute_result"
    }
   ],
   "source": [
    "#remove all The Beatles recoreds\n",
    "df1=df[df.singer=='The Beatles']\n",
    "df1[df1.verse_count>16].index\n",
    "df =df.drop(df1[df1.verse_count>16].index)\n",
    "#show the new data summary\n",
    "df.dropna().describe()"
   ]
  },
  {
   "cell_type": "markdown",
   "metadata": {},
   "source": [
    "comparing the different singers mean nomber of words"
   ]
  },
  {
   "cell_type": "code",
   "execution_count": 33,
   "metadata": {
    "collapsed": false
   },
   "outputs": [
    {
     "name": "stdout",
     "output_type": "stream",
     "text": [
      "The Beatles word count mean =197.464285714\n",
      "Britney Spearss word count mean =374.717948718\n",
      "Eminem word count mean =769.243523316\n"
     ]
    }
   ],
   "source": [
    "df1=df[df.singer=='The Beatles']\n",
    "df2=df[df.singer=='Britney Spearss']\n",
    "df3=df[df.singer=='Eminem']\n",
    "print (\"The Beatles word count mean =\"+ str(df1['word_count'].mean()))\n",
    "print (\"Britney Spearss word count mean =\"+ str(df2['word_count'].mean()))\n",
    "print (\"Eminem word count mean =\"+ str(df3['word_count'].mean()))"
   ]
  },
  {
   "cell_type": "markdown",
   "metadata": {},
   "source": [
    "we can see thet eminem have a lot more words per song\n",
    "\n",
    "lets compare the different singers on the other features"
   ]
  },
  {
   "cell_type": "code",
   "execution_count": 34,
   "metadata": {
    "collapsed": false
   },
   "outputs": [],
   "source": [
    "#create data frame for each singer\n",
    "the_beatles=[df1['verse_count'].mean(),df1['chorus_count'].mean(),df1['lines_in_chorus_count'].mean(),df1['avg_line_in_verse_count'].mean()]\n",
    "britney_spearss=[df2['verse_count'].mean(),df2['chorus_count'].mean(),df2['lines_in_chorus_count'].mean(),df2['avg_line_in_verse_count'].mean()]\n",
    "eminem=[df3['verse_count'].mean(),df3['chorus_count'].mean(),df3['lines_in_chorus_count'].mean(),df3['avg_line_in_verse_count'].mean()]\n"
   ]
  },
  {
   "cell_type": "code",
   "execution_count": 35,
   "metadata": {
    "collapsed": false
   },
   "outputs": [
    {
     "data": {
      "text/plain": [
       "<matplotlib.legend.Legend at 0xc4e49b0>"
      ]
     },
     "execution_count": 35,
     "metadata": {},
     "output_type": "execute_result"
    },
    {
     "data": {
      "image/png": "[encoded data removed]",
      "text/plain": [
       "<matplotlib.figure.Figure at 0xc3dfd68>"
      ]
     },
     "metadata": {},
     "output_type": "display_data"
    }
   ],
   "source": [
    "%matplotlib inline\n",
    "import numpy as np\n",
    "import matplotlib.pyplot as plt\n",
    "#plot the other feature comparison\n",
    "n_groups = 4\n",
    "fig, ax1  = plt.subplots()\n",
    "index = np.arange(n_groups)\n",
    "bar_width = 0.25\n",
    "\n",
    "rects1 = plt.bar(index, the_beatles, bar_width,\n",
    "                 alpha=0.8,\n",
    "                 color='b',\n",
    "                 label='The Beatles')\n",
    " \n",
    "rects2 = plt.bar(index + bar_width, britney_spearss, bar_width,\n",
    "                 alpha=0.8,\n",
    "                 color='r',\n",
    "                 label='Britney Spearss')\n",
    "\n",
    "rects3 = plt.bar(index + bar_width*2, eminem, bar_width,\n",
    "                 alpha=0.8,\n",
    "                 color='g',\n",
    "                 label='Eminem')\n",
    "plt.xlabel('Singer')\n",
    "plt.ylabel('Mean')\n",
    "plt.title('verse and chorus analysis')\n",
    "plt.xticks(index + bar_width*1.5, ('verse_count','chorus_count','lines_in_chorus','line_in_verse'))\n",
    "plt.legend(loc='upper center')\n"
   ]
  },
  {
   "cell_type": "markdown",
   "metadata": {},
   "source": [
    "We can see that the Eminem has a higher number of verse and another line per verse which makes sense given the word count and the fact that it is rapper.\n",
    "\n",
    "lets check number of songs we have in our data per singer"
   ]
  },
  {
   "cell_type": "code",
   "execution_count": 37,
   "metadata": {
    "collapsed": false
   },
   "outputs": [
    {
     "name": "stdout",
     "output_type": "stream",
     "text": [
      "The Beatles have 224 songs\n",
      "Britney Spearss have 156 songs\n",
      "Eminem have 193 songs\n"
     ]
    }
   ],
   "source": [
    "print (\"The Beatles have \"+ str(len(df1))+\" songs\")\n",
    "print (\"Britney Spearss have \"+ str(len(df2))+\" songs\")\n",
    "print (\"Eminem have \"+ str(len(df3))+\" songs\")"
   ]
  },
  {
   "cell_type": "code",
   "execution_count": 38,
   "metadata": {
    "collapsed": true
   },
   "outputs": [],
   "source": [
    "# save the data\n",
    "filename = 'songs.csv'\n",
    "df.to_csv(filename, encoding='utf-8')"
   ]
  }
 ],
 "metadata": {
  "anaconda-cloud": {},
  "kernelspec": {
   "display_name": "Python [conda root]",
   "language": "python",
   "name": "conda-root-py"
  },
  "language_info": {
   "codemirror_mode": {
    "name": "ipython",
    "version": 2
   },
   "file_extension": ".py",
   "mimetype": "text/x-python",
   "name": "python",
   "nbconvert_exporter": "python",
   "pygments_lexer": "ipython2",
   "version": "2.7.12"
  }
 },
 "nbformat": 4,
 "nbformat_minor": 1
}
